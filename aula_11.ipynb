{
 "cells": [
  {
   "cell_type": "code",
   "execution_count": 4,
   "metadata": {},
   "outputs": [
    {
     "name": "stdout",
     "output_type": "stream",
     "text": [
      "Amei\n",
      "bonito\n",
      "<built-in function print>\n"
     ]
    }
   ],
   "source": [
    "def teste(a, b): # Def - definir a função // teste - nome da função // (a, b) parâmetros escolhidos\n",
    "    soma = a + b # definindo a ação que vai acontecer quando eu chamar a função.\n",
    "    return soma # Usa-se return para que o programa entenda que quando chamar a função \"teste()\" eu quero que retorne\n",
    "# a soma\n",
    "\n",
    "teste(5, 6)"
   ]
  },
  {
   "cell_type": "code",
   "execution_count": 5,
   "metadata": {},
   "outputs": [
    {
     "name": "stdout",
     "output_type": "stream",
     "text": [
      "10\n"
     ]
    }
   ],
   "source": [
    "def soma(a, b):\n",
    "    return a + b\n",
    "\n",
    "print(soma(5,5))"
   ]
  },
  {
   "cell_type": "code",
   "execution_count": 14,
   "metadata": {},
   "outputs": [
    {
     "name": "stdout",
     "output_type": "stream",
     "text": [
      "64.0\n"
     ]
    }
   ],
   "source": [
    "def area_do_quadrado(lado):\n",
    "    area = lado ** 2\n",
    "    return area\n",
    "\n",
    "lado = float(input('Insira o valor do lado do quadrado'))\n",
    "\n",
    "print(area_do_quadrado(lado))"
   ]
  },
  {
   "cell_type": "code",
   "execution_count": 18,
   "metadata": {},
   "outputs": [
    {
     "name": "stdout",
     "output_type": "stream",
     "text": [
      "True\n"
     ]
    }
   ],
   "source": [
    "def par(x):\n",
    "    return x % 2 == 0\n",
    "\n",
    "print(par(2))"
   ]
  },
  {
   "cell_type": "code",
   "execution_count": 21,
   "metadata": {},
   "outputs": [
    {
     "data": {
      "text/plain": [
       "3"
      ]
     },
     "execution_count": 21,
     "metadata": {},
     "output_type": "execute_result"
    }
   ],
   "source": [
    "def soma(a, b, imprime = False):\n",
    "    s = a + b\n",
    "    if imprime:\n",
    "        print(s)\n",
    "    return s\n",
    "\n",
    "(soma(1, 2))"
   ]
  },
  {
   "cell_type": "code",
   "execution_count": 22,
   "metadata": {},
   "outputs": [
    {
     "name": "stdout",
     "output_type": "stream",
     "text": [
      "Olá Mundo!\n",
      "Python é legal\n",
      "Python é legal\n",
      "Python é legal\n"
     ]
    }
   ],
   "source": [
    "def exibir_mensagem(mensagem, vezes = 1):\n",
    "    for i in range(vezes):\n",
    "        print(mensagem)\n",
    "\n",
    "exibir_mensagem(\"Olá Mundo!\")\n",
    "exibir_mensagem(\"Python é legal\", 3)"
   ]
  },
  {
   "cell_type": "code",
   "execution_count": 27,
   "metadata": {},
   "outputs": [
    {
     "name": "stdout",
     "output_type": "stream",
     "text": [
      "par\n",
      "impar\n"
     ]
    }
   ],
   "source": [
    "def par(x):\n",
    "    return x % 2 == 0\n",
    "\n",
    "def par_ou_impar(x):\n",
    "    if par(x):\n",
    "        return \"par\"\n",
    "    else:\n",
    "        return \"impar\"\n",
    "    \n",
    "print(par_ou_impar(4))\n",
    "print(par_ou_impar(5))"
   ]
  },
  {
   "cell_type": "code",
   "execution_count": 28,
   "metadata": {},
   "outputs": [
    {
     "name": "stdout",
     "output_type": "stream",
     "text": [
      "0\n",
      "2\n"
     ]
    }
   ],
   "source": [
    "def pesquise(lista, valor):\n",
    "    for x, i in enumerate(lista):\n",
    "        if i == valor:\n",
    "            return x\n",
    "    return None\n",
    "\n",
    "L = [10, 20, 25, 30]\n",
    "\n",
    "print(pesquise(L,10))\n",
    "print(pesquise(L,25))"
   ]
  },
  {
   "cell_type": "code",
   "execution_count": 38,
   "metadata": {},
   "outputs": [
    {
     "data": {
      "text/plain": [
       "85"
      ]
     },
     "execution_count": 38,
     "metadata": {},
     "output_type": "execute_result"
    }
   ],
   "source": [
    "L = [10, 20, 25, 30]\n",
    "\n",
    "def soma(L):\n",
    "    total = 0\n",
    "    for i in  L:\n",
    "        total += i\n",
    "    return total\n",
    "    \n",
    "soma(L)"
   ]
  },
  {
   "cell_type": "code",
   "execution_count": 39,
   "metadata": {},
   "outputs": [
    {
     "data": {
      "text/plain": [
       "21.25"
      ]
     },
     "execution_count": 39,
     "metadata": {},
     "output_type": "execute_result"
    }
   ],
   "source": [
    "def Media(L): # média simples\n",
    "    return soma(L)/len(L)\n",
    "\n",
    "Media(L)"
   ]
  },
  {
   "cell_type": "code",
   "execution_count": 49,
   "metadata": {},
   "outputs": [
    {
     "data": {
      "text/plain": [
       "30.0"
      ]
     },
     "execution_count": 49,
     "metadata": {},
     "output_type": "execute_result"
    }
   ],
   "source": [
    "# 1 - Calcular a média da lista abaixo utilizando a função def\n",
    "\n",
    "valores = [10, 15, 20, 25, 30, 35, 40, 45, 50]\n",
    "\n",
    "def media_s(valores):\n",
    "    total = 0 \n",
    "    for i in valores:\n",
    "        total += i\n",
    "    return total\n",
    "\n",
    "def media(valores):\n",
    "    return media_s(valores) / len(valores)\n",
    "\n",
    "\n",
    "media(valores)\n"
   ]
  },
  {
   "cell_type": "code",
   "execution_count": 52,
   "metadata": {},
   "outputs": [
    {
     "name": "stdout",
     "output_type": "stream",
     "text": [
      "A força é de: 100.0 Kg/ms\n"
     ]
    }
   ],
   "source": [
    "# 2 - Crie uma função para calcular a força em Newton de acordo com os valores de entrada pelo usuário\n",
    "\n",
    "def calc(massa, aceleracao):\n",
    "    forca = massa * aceleracao\n",
    "    return forca\n",
    "\n",
    "massa = float(input('Digite a massa em Kg'))\n",
    "aceleracao = float(input('Digite a aceleração em m/s'))\n",
    "\n",
    "print('A força é de:', calc(massa, aceleracao), 'Kg/ms')"
   ]
  },
  {
   "cell_type": "code",
   "execution_count": 59,
   "metadata": {},
   "outputs": [
    {
     "name": "stdout",
     "output_type": "stream",
     "text": [
      "A área do triângulo é de: 100.0 m²\n"
     ]
    }
   ],
   "source": [
    "# 3 - Escreva uma função que receba a base e a altura de um triângulo e reorne sua área (A = (base x altura) / 2).\n",
    "\n",
    "def triangulo(base, altura):\n",
    "    area = base * altura\n",
    "    return area\n",
    "\n",
    "base = float(input('Digite a base do seu triângulo'))\n",
    "altura = float(input('Digite a altura do seu triângulo'))\n",
    "\n",
    "print('A área do triângulo é de:', triangulo(base, altura),'m²')"
   ]
  },
  {
   "cell_type": "code",
   "execution_count": 58,
   "metadata": {},
   "outputs": [
    {
     "name": "stdout",
     "output_type": "stream",
     "text": [
      "O Volume da caixa é: 1000.0 v³\n"
     ]
    }
   ],
   "source": [
    "# 4 Crie uma função para calcular o volume de uma caixa com os valores inputados pelo usuário\n",
    "\n",
    "def caixa(altura, largura, cumprimento):\n",
    "    total = altura * largura * cumprimento\n",
    "    return total\n",
    "\n",
    "altura = float(input('Digite a medida da altura'))\n",
    "largura = float(input('Digite a medida da largura'))\n",
    "cumprimento = float(input('Digite a medida da cumprimento'))\n",
    "\n",
    "print('O Volume da caixa é:', caixa(altura, largura, cumprimento), 'v³')"
   ]
  },
  {
   "cell_type": "code",
   "execution_count": 61,
   "metadata": {},
   "outputs": [
    {
     "name": "stdout",
     "output_type": "stream",
     "text": [
      "A área da sala é de: 100.0 m²\n"
     ]
    }
   ],
   "source": [
    "# 5 - Crie uma função para calcular área de uma sala com dados inputados pelo usuário\n",
    "\n",
    "def sala(lado, cumprimento):\n",
    "    area = lado * cumprimento\n",
    "    return area\n",
    "\n",
    "lado = float(input('Digite a base do seu triângulo'))\n",
    "cumprimento = float(input('Digite a altura do seu triângulo'))\n",
    "\n",
    "print('A área da sala é de:', sala(lado, cumprimento),'m²')"
   ]
  }
 ],
 "metadata": {
  "kernelspec": {
   "display_name": "Python 3",
   "language": "python",
   "name": "python3"
  },
  "language_info": {
   "codemirror_mode": {
    "name": "ipython",
    "version": 3
   },
   "file_extension": ".py",
   "mimetype": "text/x-python",
   "name": "python",
   "nbconvert_exporter": "python",
   "pygments_lexer": "ipython3",
   "version": "3.11.4"
  },
  "orig_nbformat": 4
 },
 "nbformat": 4,
 "nbformat_minor": 2
}
